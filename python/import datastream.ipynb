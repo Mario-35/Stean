{
 "cells": [
  {
   "cell_type": "code",
   "execution_count": null,
   "id": "77e4a688-9683-4c93-a148-64d1081770a8",
   "metadata": {},
   "outputs": [],
   "source": [
    "#!/usr/bin/env python3\n",
    "# -*- coding: utf-8 -*-\n",
    "\n",
    "import requests\n",
    "import json\n",
    "from stean import instanceST \n"
   ]
  },
  {
   "cell_type": "code",
   "execution_count": null,
   "id": "a094a154-69e5-4a2b-9db1-6b78b7037a95",
   "metadata": {},
   "outputs": [],
   "source": [
    "root = \"http://localhost:8029/agrhys/v1.1/\"\n",
    "sessionST=instanceST(root)\n",
    "sessionST.connexion('sensorapi', 'mario29') # connexion au serveur"
   ]
  },
  {
   "cell_type": "code",
   "execution_count": null,
   "id": "73415c79-3364-415d-ab6a-cc55daa9efd9",
   "metadata": {},
   "outputs": [],
   "source": [
    "datastreamInfos = sessionST.getOneInfo('Datastreams', \"select=id,_default_foi&$filter=name eq 'Outlet Exutoire_PME miniDOt_water temperature'\")\n",
    "data_json =  { \"header\": \"False\", \"nan\": \"True\", \"columns\": { \"1\": { \"Datastream\":  str(datastreamInfos[0]['@iot.id']), \"FeaturesOfInterest\": str(datastreamInfos[0]['_default_foi']) } } }\n",
    "fileName = r\".\\python.csv\"\n",
    "response = sessionST.postCsvFile(fileName, data_json)\n",
    "if response.status_code == 201:\n",
    "    print(\"Post OK\", response.text)\n",
    "if response.status_code!= 201:\n",
    "    print(\"error: \", response.text)"
   ]
  },
  {
   "cell_type": "code",
   "execution_count": null,
   "id": "a1563bf5",
   "metadata": {},
   "outputs": [],
   "source": [
    "sessionST.log_out()"
   ]
  }
 ],
 "metadata": {
  "kernelspec": {
   "display_name": "Python 3",
   "language": "python",
   "name": "python3"
  },
  "language_info": {
   "codemirror_mode": {
    "name": "ipython",
    "version": 3
   },
   "file_extension": ".py",
   "mimetype": "text/x-python",
   "name": "python",
   "nbconvert_exporter": "python",
   "pygments_lexer": "ipython3",
   "version": "3.10.4 (tags/v3.10.4:9d38120, Mar 23 2022, 23:13:41) [MSC v.1929 64 bit (AMD64)]"
  },
  "vscode": {
   "interpreter": {
    "hash": "c010a75cb85ed764366b4c036212a854917e56e5c79ee6d8efa9b66d0a094019"
   }
  }
 },
 "nbformat": 4,
 "nbformat_minor": 5
}
